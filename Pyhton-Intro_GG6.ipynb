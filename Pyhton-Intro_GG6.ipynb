{
 "cells": [
  {
   "cell_type": "markdown",
   "id": "e0737b54-6d33-44a8-aed8-da33d942e8c8",
   "metadata": {},
   "source": [
    "# Python Intro class\n",
    "\n",
    "- Python is Developd on C# and C++.\n",
    "- Python is Developd by Van Rossum a Dutch Programmer.\n",
    "- Python was developed in 1991 and first introduced in Banking Systems in 1994."
   ]
  },
  {
   "cell_type": "code",
   "execution_count": 5,
   "id": "0a54b50c-9251-43a7-b20e-6d29172f05aa",
   "metadata": {},
   "outputs": [
    {
     "data": {
      "text/plain": [
       "22443203547824852080957239178739558812146340592421858754041338657198480666299875886550327893080756495215754766225"
      ]
     },
     "execution_count": 5,
     "metadata": {},
     "output_type": "execute_result"
    }
   ],
   "source": [
    "265987265982659842659865983265982659826543659826598265987265984265987246584265872465 * 84376984984265984659846598465"
   ]
  },
  {
   "cell_type": "code",
   "execution_count": 11,
   "id": "667bbdf7-8a37-4f70-9f3c-e171134b3dfb",
   "metadata": {},
   "outputs": [
    {
     "data": {
      "text/plain": [
       "599388900"
      ]
     },
     "execution_count": 11,
     "metadata": {},
     "output_type": "execute_result"
    }
   ],
   "source": [
    "726532 * 825"
   ]
  },
  {
   "cell_type": "code",
   "execution_count": 12,
   "id": "f372bdfe-bcd1-4fc7-9793-3f0470b879dc",
   "metadata": {},
   "outputs": [
    {
     "data": {
      "text/plain": [
       "25"
      ]
     },
     "execution_count": 12,
     "metadata": {},
     "output_type": "execute_result"
    }
   ],
   "source": [
    "22 + 3"
   ]
  },
  {
   "cell_type": "code",
   "execution_count": 13,
   "id": "a6788a8c-df65-4826-a959-a897b64c3cc9",
   "metadata": {},
   "outputs": [
    {
     "data": {
      "text/plain": [
       "25"
      ]
     },
     "execution_count": 13,
     "metadata": {},
     "output_type": "execute_result"
    }
   ],
   "source": [
    "28 - 3"
   ]
  },
  {
   "cell_type": "code",
   "execution_count": 14,
   "id": "472238a3-8057-49a4-bbe1-99cd4fe4c96e",
   "metadata": {},
   "outputs": [
    {
     "data": {
      "text/plain": [
       "25"
      ]
     },
     "execution_count": 14,
     "metadata": {},
     "output_type": "execute_result"
    }
   ],
   "source": [
    "30 - 5"
   ]
  },
  {
   "cell_type": "code",
   "execution_count": 15,
   "id": "ffbd6b55-5953-4d9d-8448-70cbfa7f1552",
   "metadata": {},
   "outputs": [
    {
     "data": {
      "text/plain": [
       "25"
      ]
     },
     "execution_count": 15,
     "metadata": {},
     "output_type": "execute_result"
    }
   ],
   "source": [
    "27 - 2"
   ]
  },
  {
   "cell_type": "markdown",
   "id": "f467bf58-75f0-4e5d-9273-25d9fb0bc310",
   "metadata": {},
   "source": [
    "# VARIABLES in PYTHON\n",
    "\n",
    "- Variables are Storage Spaces in Python in which we can store data.\n",
    "- Variable cannot be a number.\n",
    "- It cannot start with a number.\n",
    "- It doesn't allow space."
   ]
  },
  {
   "cell_type": "code",
   "execution_count": 16,
   "id": "027e02ca-6fdf-4982-aa19-658eca88d713",
   "metadata": {},
   "outputs": [],
   "source": [
    "a = 25"
   ]
  },
  {
   "cell_type": "code",
   "execution_count": 17,
   "id": "a21efc8e-9552-4a53-9c87-3946171f7721",
   "metadata": {},
   "outputs": [
    {
     "data": {
      "text/plain": [
       "25"
      ]
     },
     "execution_count": 17,
     "metadata": {},
     "output_type": "execute_result"
    }
   ],
   "source": [
    "a"
   ]
  },
  {
   "cell_type": "code",
   "execution_count": 18,
   "id": "88e14996-5ac5-40ba-9106-213578130ddf",
   "metadata": {},
   "outputs": [],
   "source": [
    "b = 20"
   ]
  },
  {
   "cell_type": "code",
   "execution_count": 19,
   "id": "34f76b59-93b9-4ad1-8c43-74d80d3bdd3c",
   "metadata": {},
   "outputs": [
    {
     "data": {
      "text/plain": [
       "20"
      ]
     },
     "execution_count": 19,
     "metadata": {},
     "output_type": "execute_result"
    }
   ],
   "source": [
    "b"
   ]
  },
  {
   "cell_type": "code",
   "execution_count": 20,
   "id": "93d4ed76-0797-4473-8dbf-89c920e29554",
   "metadata": {},
   "outputs": [
    {
     "data": {
      "text/plain": [
       "45"
      ]
     },
     "execution_count": 20,
     "metadata": {},
     "output_type": "execute_result"
    }
   ],
   "source": [
    "a + b"
   ]
  },
  {
   "cell_type": "code",
   "execution_count": 21,
   "id": "39682bb9-aa70-408c-9d62-c2b5209e177c",
   "metadata": {},
   "outputs": [
    {
     "ename": "SyntaxError",
     "evalue": "cannot assign to literal here. Maybe you meant '==' instead of '='? (518141014.py, line 3)",
     "output_type": "error",
     "traceback": [
      "\u001b[1;36m  Cell \u001b[1;32mIn[21], line 3\u001b[1;36m\u001b[0m\n\u001b[1;33m    123 = 40\u001b[0m\n\u001b[1;37m    ^\u001b[0m\n\u001b[1;31mSyntaxError\u001b[0m\u001b[1;31m:\u001b[0m cannot assign to literal here. Maybe you meant '==' instead of '='?\n"
     ]
    }
   ],
   "source": [
    "# Variable cannot be a Number   --- >>> COMMENT\n",
    "\n",
    "123 = 40"
   ]
  },
  {
   "cell_type": "code",
   "execution_count": 22,
   "id": "98a47e34-8bb7-49e5-a442-4c4ed91ddf61",
   "metadata": {},
   "outputs": [
    {
     "ename": "SyntaxError",
     "evalue": "invalid decimal literal (3482294284.py, line 3)",
     "output_type": "error",
     "traceback": [
      "\u001b[1;36m  Cell \u001b[1;32mIn[22], line 3\u001b[1;36m\u001b[0m\n\u001b[1;33m    123a = 40\u001b[0m\n\u001b[1;37m      ^\u001b[0m\n\u001b[1;31mSyntaxError\u001b[0m\u001b[1;31m:\u001b[0m invalid decimal literal\n"
     ]
    }
   ],
   "source": [
    "# Variable name cannot start with a number\n",
    "\n",
    "123a = 40"
   ]
  },
  {
   "cell_type": "code",
   "execution_count": 23,
   "id": "51edd5ef-d0ca-4916-9a05-ae8bb65cf33c",
   "metadata": {},
   "outputs": [],
   "source": [
    "a123 = 40"
   ]
  },
  {
   "cell_type": "code",
   "execution_count": 24,
   "id": "2e1cf6fc-856d-43c3-84d8-17f461e66893",
   "metadata": {},
   "outputs": [
    {
     "data": {
      "text/plain": [
       "40"
      ]
     },
     "execution_count": 24,
     "metadata": {},
     "output_type": "execute_result"
    }
   ],
   "source": [
    "a123"
   ]
  },
  {
   "cell_type": "code",
   "execution_count": 25,
   "id": "b0227e80-cb0e-4623-82ab-2fda3b43903e",
   "metadata": {},
   "outputs": [
    {
     "ename": "SyntaxError",
     "evalue": "invalid syntax (3974976666.py, line 3)",
     "output_type": "error",
     "traceback": [
      "\u001b[1;36m  Cell \u001b[1;32mIn[25], line 3\u001b[1;36m\u001b[0m\n\u001b[1;33m    my age = 40\u001b[0m\n\u001b[1;37m       ^\u001b[0m\n\u001b[1;31mSyntaxError\u001b[0m\u001b[1;31m:\u001b[0m invalid syntax\n"
     ]
    }
   ],
   "source": [
    "# Variable doesn't contain space\n",
    "\n",
    "my age = 40"
   ]
  },
  {
   "cell_type": "code",
   "execution_count": 26,
   "id": "5d3eb4e3-8936-4254-9d7b-5a0677e55181",
   "metadata": {},
   "outputs": [],
   "source": [
    "my_age = 40"
   ]
  },
  {
   "cell_type": "code",
   "execution_count": 27,
   "id": "84ac9cc8-2298-438b-8a5a-747c792f5259",
   "metadata": {},
   "outputs": [
    {
     "data": {
      "text/plain": [
       "40"
      ]
     },
     "execution_count": 27,
     "metadata": {},
     "output_type": "execute_result"
    }
   ],
   "source": [
    "my_age"
   ]
  },
  {
   "cell_type": "code",
   "execution_count": 28,
   "id": "01338252-0b32-401a-a512-0371eb45c2af",
   "metadata": {},
   "outputs": [],
   "source": [
    "akash = 25\n",
    "sandeep = 24\n",
    "harsh = 18\n",
    "kusum = 22"
   ]
  },
  {
   "cell_type": "code",
   "execution_count": 32,
   "id": "63b5978e-4890-4c7d-af61-240f33e2f4fb",
   "metadata": {},
   "outputs": [
    {
     "data": {
      "text/plain": [
       "22.25"
      ]
     },
     "execution_count": 32,
     "metadata": {},
     "output_type": "execute_result"
    }
   ],
   "source": [
    "(akash + sandeep + harsh + kusum) / 4"
   ]
  },
  {
   "cell_type": "code",
   "execution_count": 33,
   "id": "280d3417-0de3-412a-aa23-79f3380a6bcd",
   "metadata": {},
   "outputs": [],
   "source": [
    "# Different ways to declare a Variable.....\n",
    "\n",
    "a = 10\n",
    "b = 20\n",
    "c = 30"
   ]
  },
  {
   "cell_type": "code",
   "execution_count": 37,
   "id": "c3db3220-71e5-4963-8ab7-74337425d77e",
   "metadata": {},
   "outputs": [
    {
     "data": {
      "text/plain": [
       "30"
      ]
     },
     "execution_count": 37,
     "metadata": {},
     "output_type": "execute_result"
    }
   ],
   "source": [
    "# Python onky takes recent run...\n",
    "\n",
    "a\n",
    "b\n",
    "c"
   ]
  },
  {
   "cell_type": "code",
   "execution_count": 41,
   "id": "ecf8e460-b789-4a0f-b54f-2bed43c252e4",
   "metadata": {},
   "outputs": [
    {
     "data": {
      "text/plain": [
       "(10, 20, 30)"
      ]
     },
     "execution_count": 41,
     "metadata": {},
     "output_type": "execute_result"
    }
   ],
   "source": [
    "a,b,c"
   ]
  },
  {
   "cell_type": "code",
   "execution_count": 42,
   "id": "36be81d9-3e5d-4c34-9caa-ecb0e62e1dae",
   "metadata": {},
   "outputs": [],
   "source": [
    "x,y,z = 100,200,300"
   ]
  },
  {
   "cell_type": "code",
   "execution_count": 43,
   "id": "5a0e62f7-ca43-4496-985e-b577a10bb1d1",
   "metadata": {},
   "outputs": [
    {
     "data": {
      "text/plain": [
       "100"
      ]
     },
     "execution_count": 43,
     "metadata": {},
     "output_type": "execute_result"
    }
   ],
   "source": [
    "x"
   ]
  },
  {
   "cell_type": "code",
   "execution_count": 44,
   "id": "44881805-f8c9-4ca4-ac8f-97413be15999",
   "metadata": {},
   "outputs": [
    {
     "data": {
      "text/plain": [
       "200"
      ]
     },
     "execution_count": 44,
     "metadata": {},
     "output_type": "execute_result"
    }
   ],
   "source": [
    "y"
   ]
  },
  {
   "cell_type": "code",
   "execution_count": 45,
   "id": "2fb78cdc-6406-49ad-b0b3-c867447a6750",
   "metadata": {},
   "outputs": [
    {
     "data": {
      "text/plain": [
       "300"
      ]
     },
     "execution_count": 45,
     "metadata": {},
     "output_type": "execute_result"
    }
   ],
   "source": [
    "z"
   ]
  },
  {
   "cell_type": "code",
   "execution_count": null,
   "id": "3cf98fa3-dfb1-447c-9b59-ff65684da283",
   "metadata": {},
   "outputs": [],
   "source": []
  }
 ],
 "metadata": {
  "kernelspec": {
   "display_name": "Python 3 (ipykernel)",
   "language": "python",
   "name": "python3"
  },
  "language_info": {
   "codemirror_mode": {
    "name": "ipython",
    "version": 3
   },
   "file_extension": ".py",
   "mimetype": "text/x-python",
   "name": "python",
   "nbconvert_exporter": "python",
   "pygments_lexer": "ipython3",
   "version": "3.11.7"
  }
 },
 "nbformat": 4,
 "nbformat_minor": 5
}
