{
 "cells": [
  {
   "cell_type": "code",
   "execution_count": 2,
   "metadata": {},
   "outputs": [
    {
     "name": "stdout",
     "output_type": "stream",
     "text": [
      "Hello World\n"
     ]
    }
   ],
   "source": [
    "#print() function\n",
    "print(\"Hello World\")"
   ]
  },
  {
   "cell_type": "code",
   "execution_count": 3,
   "metadata": {},
   "outputs": [
    {
     "name": "stdout",
     "output_type": "stream",
     "text": [
      "Have a Good Day\n",
      "Good Morning\n",
      "Thank you\n",
      "I am learning python✌️\n"
     ]
    }
   ],
   "source": [
    "print(\"Have a Good Day\")\n",
    "print(\"Good Morning\")\n",
    "print(\"Thank you\")\n",
    "print(\"I am learning python✌️\")"
   ]
  },
  {
   "cell_type": "code",
   "execution_count": 7,
   "metadata": {},
   "outputs": [
    {
     "name": "stdout",
     "output_type": "stream",
     "text": [
      "5\n",
      "0.5\n",
      "81\n",
      "3\n",
      "0\n",
      "36\n",
      "1\n"
     ]
    }
   ],
   "source": [
    "print(3+2)    #addition\n",
    "print(5/10)   #division\n",
    "print(9*9)    #multiplication\n",
    "print(8-5)    #subtraction\n",
    "print(5//10)  #floor division(roundoff)\n",
    "print(6**2)   #power\n",
    "print(25%4)   #remainder"
   ]
  },
  {
   "cell_type": "code",
   "execution_count": 16,
   "metadata": {},
   "outputs": [
    {
     "name": "stdout",
     "output_type": "stream",
     "text": [
      "3\n",
      "45\n",
      "78.666\n",
      "True\n",
      "(5+2j)\n"
     ]
    }
   ],
   "source": [
    "#Convert the following into a string - 3, 45, 78.666, True, 5+2j\n",
    "x = 3\n",
    "y = 45\n",
    "z = 78.666\n",
    "a = True\n",
    "b = 5+2j\n",
    "print(str(x))\n",
    "print(str(y))\n",
    "print(str(z))\n",
    "print(str(a))\n",
    "print(str(b))"
   ]
  },
  {
   "cell_type": "code",
   "execution_count": 18,
   "metadata": {},
   "outputs": [
    {
     "ename": "TypeError",
     "evalue": "can only concatenate str (not \"int\") to str",
     "output_type": "error",
     "traceback": [
      "\u001b[1;31m---------------------------------------------------------------------------\u001b[0m",
      "\u001b[1;31mTypeError\u001b[0m                                 Traceback (most recent call last)",
      "Cell \u001b[1;32mIn[18], line 2\u001b[0m\n\u001b[0;32m      1\u001b[0m x \u001b[38;5;241m=\u001b[39m \u001b[38;5;28mstr\u001b[39m(x)\n\u001b[1;32m----> 2\u001b[0m \u001b[38;5;28mprint\u001b[39m(x\u001b[38;5;241m+\u001b[39m\u001b[38;5;241m2\u001b[39m)\n",
      "\u001b[1;31mTypeError\u001b[0m: can only concatenate str (not \"int\") to str"
     ]
    }
   ],
   "source": [
    "x = str(x)\n",
    "print(x+2)"
   ]
  },
  {
   "cell_type": "code",
   "execution_count": 21,
   "metadata": {},
   "outputs": [
    {
     "name": "stdout",
     "output_type": "stream",
     "text": [
      "True\n"
     ]
    }
   ],
   "source": [
    "if 10>2:\n",
    "    print(True)"
   ]
  },
  {
   "cell_type": "code",
   "execution_count": 23,
   "metadata": {},
   "outputs": [],
   "source": [
    "# Write python program to print the following based on condition\n",
    "# Country    Capitals\n",
    "# India      Delhi\n",
    "# Bangladesh Dhaka\n",
    "# Sri Lanka  Colombo\n",
    "# Australia  Canberra\n",
    "# china      Beijing\n",
    "# Israel     Tel Aviv\n",
    "# Nepal      Kathmandu\n",
    "# Bhutan     Timphu\n",
    "# Indonesia  Jakarta"
   ]
  },
  {
   "cell_type": "code",
   "execution_count": 35,
   "metadata": {},
   "outputs": [
    {
     "name": "stdout",
     "output_type": "stream",
     "text": [
      "Jakarta\n"
     ]
    }
   ],
   "source": [
    "country = \"Indonesia\"\n",
    "if country == \"India\":\n",
    "    print(\"Delhi\")\n",
    "elif country == \"Bangladesh\":\n",
    "    print(\"Dhaka\")\n",
    "elif country == \"Sri Lanka\":\n",
    "    print(\"Colombo\")\n",
    "elif country == \"Australia\":\n",
    "    print(\"Canberra\")\n",
    "elif country == \"China\":\n",
    "    print(\"Beijing\")\n",
    "elif country ==\"Israel\":\n",
    "    print(\"Tel Aviv\")\n",
    "elif country ==\"Nepal\":\n",
    "    print(\"Kathmandu\")\n",
    "elif country == \"Bhutan\":\n",
    "    print(\"Timphu\")\n",
    "elif country == \"Indonesia\":\n",
    "    print(\"Jakarta\")  \n",
    "else:\n",
    "    print(\"Enter a Valid country\")"
   ]
  },
  {
   "cell_type": "code",
   "execution_count": 30,
   "metadata": {},
   "outputs": [],
   "source": []
  },
  {
   "cell_type": "code",
   "execution_count": null,
   "metadata": {},
   "outputs": [],
   "source": []
  },
  {
   "cell_type": "code",
   "execution_count": null,
   "metadata": {},
   "outputs": [],
   "source": []
  },
  {
   "cell_type": "code",
   "execution_count": null,
   "metadata": {},
   "outputs": [],
   "source": []
  },
  {
   "cell_type": "code",
   "execution_count": null,
   "metadata": {},
   "outputs": [],
   "source": []
  }
 ],
 "metadata": {
  "kernelspec": {
   "display_name": "base",
   "language": "python",
   "name": "python3"
  },
  "language_info": {
   "codemirror_mode": {
    "name": "ipython",
    "version": 3
   },
   "file_extension": ".py",
   "mimetype": "text/x-python",
   "name": "python",
   "nbconvert_exporter": "python",
   "pygments_lexer": "ipython3",
   "version": "3.12.7"
  }
 },
 "nbformat": 4,
 "nbformat_minor": 2
}
