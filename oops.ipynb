{
 "cells": [
  {
   "cell_type": "code",
   "execution_count": 1,
   "metadata": {},
   "outputs": [],
   "source": [
    "class Math:\n",
    "    def addition(x,y):\n",
    "        print(x+y)\n",
    "    def subtraction(x,y):\n",
    "        print(x-y)\n",
    "    def multiplication(x,y):\n",
    "        print(x*y)\n",
    "    def division(x,y):\n",
    "        print(x/y)"
   ]
  },
  {
   "cell_type": "code",
   "execution_count": 2,
   "metadata": {},
   "outputs": [
    {
     "ename": "NameError",
     "evalue": "name 'addition' is not defined",
     "output_type": "error",
     "traceback": [
      "\u001b[1;31m---------------------------------------------------------------------------\u001b[0m",
      "\u001b[1;31mNameError\u001b[0m                                 Traceback (most recent call last)",
      "Cell \u001b[1;32mIn[2], line 1\u001b[0m\n\u001b[1;32m----> 1\u001b[0m addition(\u001b[38;5;241m6\u001b[39m,\u001b[38;5;241m8\u001b[39m)\n",
      "\u001b[1;31mNameError\u001b[0m: name 'addition' is not defined"
     ]
    }
   ],
   "source": [
    "addition(6,8)"
   ]
  },
  {
   "cell_type": "code",
   "execution_count": 3,
   "metadata": {},
   "outputs": [
    {
     "name": "stdout",
     "output_type": "stream",
     "text": [
      "14\n"
     ]
    }
   ],
   "source": [
    "Math.addition(6,8)"
   ]
  },
  {
   "cell_type": "code",
   "execution_count": 5,
   "metadata": {},
   "outputs": [],
   "source": [
    "class List_functions:\n",
    "    def list_length(list1):\n",
    "        count = 0\n",
    "        for i in list1:\n",
    "            count = count + 1\n",
    "        print(count)"
   ]
  },
  {
   "cell_type": "code",
   "execution_count": 6,
   "metadata": {},
   "outputs": [
    {
     "name": "stdout",
     "output_type": "stream",
     "text": [
      "7\n"
     ]
    }
   ],
   "source": [
    "my_list = [1,2,3,4,5,6,7]\n",
    "List_functions.list_length(my_list)"
   ]
  },
  {
   "cell_type": "code",
   "execution_count": 4,
   "metadata": {},
   "outputs": [],
   "source": [
    "class Greetings:\n",
    "    def welcome():\n",
    "        print(\"Hi\")\n",
    "    def goodbye():\n",
    "        print(\"Bye\")"
   ]
  },
  {
   "cell_type": "code",
   "execution_count": 5,
   "metadata": {},
   "outputs": [
    {
     "name": "stdout",
     "output_type": "stream",
     "text": [
      "Hi\n"
     ]
    }
   ],
   "source": [
    "Greetings.welcome()"
   ]
  },
  {
   "cell_type": "code",
   "execution_count": 13,
   "metadata": {},
   "outputs": [],
   "source": [
    "list1 = [12,13]"
   ]
  },
  {
   "cell_type": "code",
   "execution_count": 14,
   "metadata": {},
   "outputs": [
    {
     "data": {
      "text/plain": [
       "list"
      ]
     },
     "execution_count": 14,
     "metadata": {},
     "output_type": "execute_result"
    }
   ],
   "source": [
    "type(list1)"
   ]
  },
  {
   "cell_type": "code",
   "execution_count": 1,
   "metadata": {},
   "outputs": [],
   "source": [
    "# string, float, boolean, int, complex\n",
    "# list, dictionary, sets, tuple are also data types\n",
    "# these are sequence data types"
   ]
  },
  {
   "cell_type": "code",
   "execution_count": 12,
   "metadata": {},
   "outputs": [],
   "source": [
    "class Bhai():   #real life object\n",
    "    def __init__(self,name):\n",
    "        self.name = name\n",
    "    def chal(self):\n",
    "        print(f\"{self.name} Bhai chal raha hai\")\n",
    "    def khana_kha(self):\n",
    "        print(f\"{self.name} Bhai khana kha raha hai\")\n",
    "    def pani_pile(self):\n",
    "        print(f\"{self.name} Bhai pani pi raha hai\")"
   ]
  },
  {
   "cell_type": "code",
   "execution_count": 17,
   "metadata": {},
   "outputs": [],
   "source": [
    "class Car():\n",
    "    def __init__(self, name, model, price, color):               #constructor\n",
    "        self.name = name\n",
    "        self.model = model\n",
    "        self.price = price\n",
    "        self.color = color\n",
    "\n",
    "    def accelerate(self):\n",
    "        print(f\"{self.model} Car is moving\")\n",
    "\n",
    "    def breaks(self):\n",
    "        print(f\"{self.model} has stoppped\")"
   ]
  },
  {
   "cell_type": "code",
   "execution_count": 23,
   "metadata": {},
   "outputs": [],
   "source": [
    "class Bike(Car):\n",
    "    def __init__(self, name, model):\n",
    "        self.name = name\n",
    "        self.model = model"
   ]
  },
  {
   "cell_type": "code",
   "execution_count": 24,
   "metadata": {},
   "outputs": [],
   "source": [
    "bike1 = Bike(\"Royal Enfield\",\"Meteor 650\")"
   ]
  },
  {
   "cell_type": "code",
   "execution_count": 22,
   "metadata": {},
   "outputs": [
    {
     "name": "stdout",
     "output_type": "stream",
     "text": [
      "Meteor 650 has stoppped\n"
     ]
    }
   ],
   "source": [
    "bike1.breaks()"
   ]
  },
  {
   "cell_type": "code",
   "execution_count": 25,
   "metadata": {},
   "outputs": [
    {
     "name": "stdout",
     "output_type": "stream",
     "text": [
      "Meteor 650 Car is moving\n"
     ]
    }
   ],
   "source": [
    "bike1.accelerate()"
   ]
  },
  {
   "cell_type": "code",
   "execution_count": 2,
   "metadata": {},
   "outputs": [],
   "source": [
    "car1 = Car(\"Land Rover\", \"Defender\", 15000000, \"White\")"
   ]
  },
  {
   "cell_type": "code",
   "execution_count": 3,
   "metadata": {},
   "outputs": [
    {
     "name": "stdout",
     "output_type": "stream",
     "text": [
      "Defender Car is moving\n"
     ]
    }
   ],
   "source": [
    "car1.accelerate()"
   ]
  },
  {
   "cell_type": "code",
   "execution_count": 4,
   "metadata": {},
   "outputs": [
    {
     "name": "stdout",
     "output_type": "stream",
     "text": [
      "Land Rover\n"
     ]
    }
   ],
   "source": [
    "print(car1.name)"
   ]
  },
  {
   "cell_type": "code",
   "execution_count": 5,
   "metadata": {},
   "outputs": [],
   "source": [
    "class Animal:  #parent class\n",
    "    def cannot_talk():\n",
    "        print(\"This animal cannot talk\")"
   ]
  },
  {
   "cell_type": "code",
   "execution_count": 13,
   "metadata": {},
   "outputs": [],
   "source": [
    "class Dog(Animal):  #inherits all features of Animal class (parent class) just by adding the name of the class in front of another class\n",
    "    def bark():\n",
    "        print(\"Bhau Bhau\")\n",
    "    def has_tail():\n",
    "        print(\"Dog has a tail\")"
   ]
  },
  {
   "cell_type": "code",
   "execution_count": 14,
   "metadata": {},
   "outputs": [
    {
     "name": "stdout",
     "output_type": "stream",
     "text": [
      "This animal cannot talk\n"
     ]
    }
   ],
   "source": [
    "Animal.cannot_talk()"
   ]
  },
  {
   "cell_type": "code",
   "execution_count": 15,
   "metadata": {},
   "outputs": [
    {
     "name": "stdout",
     "output_type": "stream",
     "text": [
      "Bhau Bhau\n"
     ]
    }
   ],
   "source": [
    "Dog.bark()"
   ]
  },
  {
   "cell_type": "code",
   "execution_count": 12,
   "metadata": {},
   "outputs": [
    {
     "name": "stdout",
     "output_type": "stream",
     "text": [
      "This animal cannot talk\n"
     ]
    }
   ],
   "source": [
    "Dog.cannot_talk()"
   ]
  },
  {
   "cell_type": "code",
   "execution_count": 32,
   "metadata": {},
   "outputs": [],
   "source": [
    "class India():\n",
    "    def welcome():\n",
    "        print(\"Namaste🙏! Welcome to India\")\n",
    "class China():\n",
    "    def welcome():\n",
    "        print(\"Ni hao!🐉 Welcome to China\")\n",
    "class Australia():\n",
    "    def welcome():\n",
    "        print(\"Welcome to Australia, Mate!\")"
   ]
  },
  {
   "cell_type": "code",
   "execution_count": 33,
   "metadata": {},
   "outputs": [
    {
     "name": "stdout",
     "output_type": "stream",
     "text": [
      "Namaste🙏! Welcome to India\n",
      "Ni hao!🐉 Welcome to China\n",
      "Welcome to Australia, Mate!\n"
     ]
    }
   ],
   "source": [
    "India.welcome()\n",
    "China.welcome()\n",
    "Australia.welcome()        #polymorphisam - the function with a single name can be used in different classes to call them individually."
   ]
  },
  {
   "cell_type": "code",
   "execution_count": null,
   "metadata": {},
   "outputs": [],
   "source": []
  },
  {
   "cell_type": "code",
   "execution_count": null,
   "metadata": {},
   "outputs": [],
   "source": []
  }
 ],
 "metadata": {
  "kernelspec": {
   "display_name": "base",
   "language": "python",
   "name": "python3"
  },
  "language_info": {
   "codemirror_mode": {
    "name": "ipython",
    "version": 3
   },
   "file_extension": ".py",
   "mimetype": "text/x-python",
   "name": "python",
   "nbconvert_exporter": "python",
   "pygments_lexer": "ipython3",
   "version": "3.12.7"
  }
 },
 "nbformat": 4,
 "nbformat_minor": 2
}
