{
 "cells": [
  {
   "cell_type": "markdown",
   "metadata": {},
   "source": [
    "Question 1. Discount Calculator,\n",
    "Write a program that takes the price of a product as input. If the price is greater than ₹500, apply a 10% discount; otherwise, apply a 5% discount. Display the final price.\n"
   ]
  },
  {
   "cell_type": "code",
   "execution_count": 20,
   "metadata": {},
   "outputs": [
    {
     "name": "stdout",
     "output_type": "stream",
     "text": [
      "380.0\n"
     ]
    }
   ],
   "source": [
    "p = int(input('Enter a price'))\n",
    "if p>500:\n",
    "    p = (p-(p*0.10))\n",
    "    print(p)\n",
    "else:\n",
    "    p = (p-(p*0.05))\n",
    "    print(p)"
   ]
  },
  {
   "cell_type": "markdown",
   "metadata": {},
   "source": [
    "Question 2. Odd or Even,\n",
    "Take the user's age as input.\n",
    "If the age is 18 or above, display \"Eligible to drive\"; otherwise, display \"Not eligible to drive.\"\n"
   ]
  },
  {
   "cell_type": "code",
   "execution_count": 2,
   "metadata": {},
   "outputs": [
    {
     "name": "stdout",
     "output_type": "stream",
     "text": [
      "Even\n"
     ]
    }
   ],
   "source": [
    "a = int(input('Enter a value'))\n",
    "if a%2==0:\n",
    "    print(\"Even\")\n",
    "else:\n",
    "    print(\"Odd\")"
   ]
  },
  {
   "cell_type": "markdown",
   "metadata": {},
   "source": [
    "Question 3. Driving Eligibility\n",
    "Take the user's age as input.\n",
    "If the age is 18 or above, display \"Eligible to drive\"; otherwise, display \"Not eligible to drive.\""
   ]
  },
  {
   "cell_type": "code",
   "execution_count": 4,
   "metadata": {},
   "outputs": [
    {
     "name": "stdout",
     "output_type": "stream",
     "text": [
      "Not eligible to drive\n"
     ]
    }
   ],
   "source": [
    "a = int(input('Enter your age'))\n",
    "if a>=18:\n",
    "    print(\"Eligible to Drive\")\n",
    "else:\n",
    "    print(\"Not eligible to drive\")"
   ]
  },
  {
   "cell_type": "markdown",
   "metadata": {},
   "source": [
    "Question 4. Store Timing,\n",
    "Write a program that asks the current time (24-hour format).\n",
    "If the time is between 9 AM and 9 PM, print \"Store is open\"; otherwise, print \"Store is closed.\""
   ]
  },
  {
   "cell_type": "markdown",
   "metadata": {},
   "source": [
    "Question 5. Pass or Fail,\n",
    "Take the user's marks as input.\n",
    "If the marks are 40 or above, print \"Pass\"; otherwise, print \"Fail.\""
   ]
  },
  {
   "cell_type": "code",
   "execution_count": 6,
   "metadata": {},
   "outputs": [
    {
     "name": "stdout",
     "output_type": "stream",
     "text": [
      "Pass\n"
     ]
    }
   ],
   "source": [
    "a = int(input(\"Enter the marks\"))\n",
    "if a>=40:\n",
    "    print(\"Pass\")\n",
    "else:\n",
    "    print(\"Fail\")"
   ]
  },
  {
   "cell_type": "markdown",
   "metadata": {},
   "source": [
    "Question 6. Prime Membership,\n",
    "Write a program that asks if the user has a Prime membership.\n",
    "If the user enters \"yes,\" offer free delivery; otherwise, charge ₹50 for delivery."
   ]
  },
  {
   "cell_type": "code",
   "execution_count": 10,
   "metadata": {},
   "outputs": [
    {
     "name": "stdout",
     "output_type": "stream",
     "text": [
      "I am so sorry! You are not eligible for a free delivery 50 rupees per deliver will be charged for non Prime Members\n"
     ]
    }
   ],
   "source": [
    "a = str(input(\"Do you have Prime Membership:\"))\n",
    "if a==\"Yes\"or a==\"yes\":\n",
    "    print(\"You are eligible for free delivery\")\n",
    "else:\n",
    "    print(\"I am so sorry! You are not eligible for a free delivery 50 rupees per deliver will be charged for non Prime Members\")"
   ]
  },
  {
   "cell_type": "markdown",
   "metadata": {},
   "source": [
    "Question 7. Leap Year Checker,\n",
    "Take a year as input.\n",
    "Check if it is a leap year or not using an if-else statement."
   ]
  },
  {
   "cell_type": "code",
   "execution_count": 2,
   "metadata": {},
   "outputs": [
    {
     "name": "stdout",
     "output_type": "stream",
     "text": [
      "Yes, It is a leap year\n"
     ]
    }
   ],
   "source": [
    "a = int(input(\"Enter the year\"))\n",
    "if a%4==0:\n",
    "    print(\"Yes, It is a leap year\")\n",
    "else:\n",
    "    print(\"No, It is not a Leap year\")"
   ]
  },
  {
   "cell_type": "markdown",
   "metadata": {},
   "source": [
    "Question 8. Temperature Alert,\n",
    "Take the current temperature as input.\n",
    "If the temperature is above 40°C, display \"Heat Alert\"; if it’s below 0°C, display \"Cold Alert\";\n",
    "otherwise, display \"Normal Weather.\""
   ]
  },
  {
   "cell_type": "code",
   "execution_count": 16,
   "metadata": {},
   "outputs": [
    {
     "name": "stdout",
     "output_type": "stream",
     "text": [
      "Cold Alert\n"
     ]
    }
   ],
   "source": [
    "a = int(input(\"Enter the temperature\"))\n",
    "if a>=40:\n",
    "    print(\"Heat Alert\")\n",
    "elif a<0:\n",
    "    print(\"Cold Alert\")\n",
    "else:\n",
    "    print(\"Normal Weather\")"
   ]
  },
  {
   "cell_type": "markdown",
   "metadata": {},
   "source": [
    "Question 9. Grade Calculator,\n",
    "Ask the user for their percentage marks.\n",
    "Use if-else statements to print the grade based on the following:\n",
    "90% and above: A+\n",
    "80%–89%: A\n",
    "70%–79%: B\n",
    "Below 70%: C"
   ]
  },
  {
   "cell_type": "code",
   "execution_count": 24,
   "metadata": {},
   "outputs": [
    {
     "name": "stdout",
     "output_type": "stream",
     "text": [
      "This student has Failed\n"
     ]
    }
   ],
   "source": [
    "marks = int(input(\"Enter the marks obtained by the student:\"))\n",
    "if marks >= 90:\n",
    "    print(\"Grade is A\")\n",
    "elif marks >= 80 and marks < 89:\n",
    "    print(\"Grade is A\")\n",
    "elif marks >= 70 and marks < 79:\n",
    "    print(\"Grade is B\")\n",
    "elif marks < 70 and marks > 0:\n",
    "    print(\"Grade is C\")\n",
    "else:\n",
    "    print(\"This student has Failed\")"
   ]
  },
  {
   "cell_type": "markdown",
   "metadata": {},
   "source": [
    "Question 10. Bank Withdrawal,\n",
    "Take the balance in a bank account and the amount the user wants to withdraw as input. If\n",
    "the withdrawal amount is less than or equal to the balance, print \"Withdrawal successful\";\n",
    "otherwise, print \"Insucient balance.\""
   ]
  },
  {
   "cell_type": "code",
   "execution_count": null,
   "metadata": {},
   "outputs": [
    {
     "name": "stdout",
     "output_type": "stream",
     "text": [
      "Insufficiennt Balance\n"
     ]
    }
   ],
   "source": [
    "# Bank Withdrawal\n",
    "amount = float(input(\"Enter the amount that you want to Withdraw:\"))\n",
    "balance = float(input(\"Enter the Total Balance:\"))\n",
    "if amount <= balance:\n",
    "    print(\"Withdraw Succesful\")\n",
    "else:\n",
    "    print(\"Insufficiennt Balance\")"
   ]
  },
  {
   "cell_type": "markdown",
   "metadata": {},
   "source": [
    "Question 11. Number Comparison,\n",
    "Ask the user to input two numbers.\n",
    "Print whether the 1st number is greater, smaller, or equal to the second number."
   ]
  },
  {
   "cell_type": "code",
   "execution_count": 27,
   "metadata": {},
   "outputs": [
    {
     "name": "stdout",
     "output_type": "stream",
     "text": [
      "The first number is greater than the second number\n"
     ]
    }
   ],
   "source": [
    "a = int(input(\"Enter the first number\"))\n",
    "b = int(input(\"Enter the second number\"))\n",
    "if a>b:\n",
    "    print(\"The first number is greater than the second number\")\n",
    "elif a==b:\n",
    "    print(\"Both numbers are equal\")\n",
    "elif a<b:\n",
    "    print(\"The first number is smaller than the seccond number\")\n",
    "else:\n",
    "    print(\"Enter a valiid number\")"
   ]
  },
  {
   "cell_type": "markdown",
   "metadata": {},
   "source": [
    "Question 12. Password Validator,\n",
    "Ask the user to input a password.\n",
    "If it matches a predened password (e.g., \"secure123\"), print \"Access granted\"; otherwise, print\n",
    "\"Access denied.\""
   ]
  },
  {
   "cell_type": "code",
   "execution_count": 12,
   "metadata": {},
   "outputs": [
    {
     "name": "stdout",
     "output_type": "stream",
     "text": [
      "Access Denied\n"
     ]
    }
   ],
   "source": [
    "a = str(input(\"Enter a valid password to access the files\"))\n",
    "if a == \"Secure123\":\n",
    "    print(\"Access Granted\")\n",
    "else:\n",
    "    print(\"Access Denied\")\n"
   ]
  },
  {
   "cell_type": "markdown",
   "metadata": {},
   "source": [
    "Question 13. Evening Discount,\n",
    "If the current time is between 6 PM and 9 PM, apply a 20% discount on the product price\n",
    "entered by the user. Otherwise, no discount is applied."
   ]
  },
  {
   "cell_type": "markdown",
   "metadata": {},
   "source": [
    "Question 14. Eligible for Voting,\n",
    "Take the user's citizenship (\"Indian\" or \"Other\") and age as input.\n",
    "If the user is Indian and 18 or above, print \"Eligible to vote\"; otherwise, print \"Not eligible to\n",
    "vote.\""
   ]
  },
  {
   "cell_type": "code",
   "execution_count": 17,
   "metadata": {},
   "outputs": [
    {
     "name": "stdout",
     "output_type": "stream",
     "text": [
      "\n",
      "Eligible to vote\n"
     ]
    }
   ],
   "source": [
    "a = str(input(\"Enter your citizenship\"))\n",
    "b = int(input(\"Enter your age\"))\n",
    "if a==\"Indian\":\n",
    "    print()\n",
    "if a==\"Other\":\n",
    "    print()\n",
    "if b>=18:\n",
    "    print(\"Eligible to vote\")\n",
    "else:\n",
    "    print(\"Not eligible to vote\")"
   ]
  },
  {
   "cell_type": "markdown",
   "metadata": {},
   "source": [
    "Question 15. Restaurant Bill Split,\n",
    "Ask the user for the number of people in a group.\n",
    "If it’s greater than 5, apply a 15% service charge on the total bill amount entered by the user."
   ]
  },
  {
   "cell_type": "code",
   "execution_count": 18,
   "metadata": {},
   "outputs": [
    {
     "name": "stdout",
     "output_type": "stream",
     "text": [
      "948.75\n"
     ]
    }
   ],
   "source": [
    "a = int(input(\"enter number of person present in the group:\"))\n",
    "b = float(input(\"Enter the amount of the bill: \"))\n",
    "if a>5:\n",
    "    b =(b+(b*0.15))\n",
    "    print(b)"
   ]
  },
  {
   "cell_type": "markdown",
   "metadata": {},
   "source": [
    "Question 16. Delivery Service,\n",
    "Ask for the user's delivery location (as \"urban\" or \"rural\").\n",
    "If the location is urban, display \"Delivery available\"; otherwise, display \"Delivery not available.\""
   ]
  },
  {
   "cell_type": "code",
   "execution_count": 19,
   "metadata": {},
   "outputs": [
    {
     "name": "stdout",
     "output_type": "stream",
     "text": [
      "Delivery not available\n"
     ]
    }
   ],
   "source": [
    "# Delivery Service\n",
    "a = str(input(\"Enter the area\"))\n",
    "if a==\"Urban\":\n",
    "    print(\"Delivery available\")\n",
    "else:\n",
    "    print(\"Delivery not available\")"
   ]
  },
  {
   "cell_type": "markdown",
   "metadata": {},
   "source": [
    "Question 17. BMI Calculator,c \n",
    "Take the user’s weight (in kg) and height (in meters) as input and calculate their BMI.\n",
    "If BMI < 18.5, display \"Underweight\"; 18.5–24.9, display \"Normal\"; otherwise, display\n",
    "\"Overweight.\""
   ]
  },
  {
   "cell_type": "code",
   "execution_count": 1,
   "metadata": {},
   "outputs": [
    {
     "name": "stdout",
     "output_type": "stream",
     "text": [
      "Underweight\n"
     ]
    }
   ],
   "source": [
    "#BMI Calculator:\n",
    "w = float(input(\"Enter your weight in kg's:\"))\n",
    "h = float(input(\"Enter your height in meters:\")) \n",
    "bmi = (w/(h*h))\n",
    "if bmi < 18.5:\n",
    "    print(\"Underweight\")\n",
    "elif bmi > 18.5 and bmi < 24.9:\n",
    "    print(\"Normal\")\n",
    "else:\n",
    "    print(\"Overweight\")"
   ]
  },
  {
   "cell_type": "markdown",
   "metadata": {},
   "source": [
    "Question 19. Flight Fare Check,\n",
    "Take the age of a passenger as input.\n",
    "If the passenger is below 12 or above 60, apply a 50% discount on the fare entered by the user;\n",
    "otherwise, charge the full fare."
   ]
  },
  {
   "cell_type": "code",
   "execution_count": 4,
   "metadata": {},
   "outputs": [
    {
     "name": "stdout",
     "output_type": "stream",
     "text": [
      "2500.0\n"
     ]
    }
   ],
   "source": [
    "# Flight Fare Check\n",
    "age = int(input(\"Enter your Age:\"))\n",
    "fare = int(input(\"Enter the Fare:\"))\n",
    "if age < 12 or age > 60:\n",
    "    print(fare - (fare * 0.5))\n",
    "else:\n",
    "    print(fare)"
   ]
  },
  {
   "cell_type": "markdown",
   "metadata": {},
   "source": [
    "Question 20. Electricity Bill,\n",
    "Ask the user for the number of electricity units consumed.\n",
    "If units are:\n",
    "Less than or equal to 100: Charge ₹5 per unit.\n",
    "Between 101 and 300: Charge ₹10 per unit.\n",
    "Above 300: Charge ₹15 per unit."
   ]
  },
  {
   "cell_type": "code",
   "execution_count": 30,
   "metadata": {},
   "outputs": [
    {
     "name": "stdout",
     "output_type": "stream",
     "text": [
      "2515\n"
     ]
    }
   ],
   "source": [
    "# Electricity Bill Calculator\n",
    "unit = int(input('Enter unit consumed in the month:'))\n",
    "if unit<=100:\n",
    "    print(unit*5)\n",
    "elif (unit>=101) and (unit<300):\n",
    "    print(500 + ((unit-100)*10))\n",
    "else:\n",
    "    (unit > 300)\n",
    "    print(2500+(unit-300)*15)"
   ]
  }
 ],
 "metadata": {
  "kernelspec": {
   "display_name": "base",
   "language": "python",
   "name": "python3"
  },
  "language_info": {
   "codemirror_mode": {
    "name": "ipython",
    "version": 3
   },
   "file_extension": ".py",
   "mimetype": "text/x-python",
   "name": "python",
   "nbconvert_exporter": "python",
   "pygments_lexer": "ipython3",
   "version": "3.12.7"
  }
 },
 "nbformat": 4,
 "nbformat_minor": 2
}
